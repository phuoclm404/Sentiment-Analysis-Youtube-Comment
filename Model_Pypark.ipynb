{
  "nbformat": 4,
  "nbformat_minor": 0,
  "metadata": {
    "colab": {
      "name": "Bigdata_project.ipynb",
      "provenance": [],
      "collapsed_sections": [
        "BdB43wqOoviC",
        "gL8kGk-CmO27",
        "GkVlPFSYmIAu",
        "J7GazRi84CXs",
        "Ap6nLGP3uQGF",
        "h3pJs5y2eCxT"
      ],
      "toc_visible": true
    },
    "kernelspec": {
      "name": "python3",
      "display_name": "Python 3"
    },
    "language_info": {
      "name": "python"
    }
  },
  "cells": [
    {
      "cell_type": "markdown",
      "source": [
        "# Cài đặt thư viện"
      ],
      "metadata": {
        "id": "BdB43wqOoviC"
      }
    },
    {
      "cell_type": "code",
      "source": [
        "!pip install pyspark"
      ],
      "metadata": {
        "colab": {
          "base_uri": "https://localhost:8080/"
        },
        "id": "uuUS86QDO3sH",
        "outputId": "bad57dfa-3042-424a-9ef2-f9217b83a696"
      },
      "execution_count": null,
      "outputs": [
        {
          "output_type": "stream",
          "name": "stdout",
          "text": [
            "Collecting pyspark\n",
            "  Downloading pyspark-3.2.1.tar.gz (281.4 MB)\n",
            "\u001b[K     |████████████████████████████████| 281.4 MB 27 kB/s \n",
            "\u001b[?25hCollecting py4j==0.10.9.3\n",
            "  Downloading py4j-0.10.9.3-py2.py3-none-any.whl (198 kB)\n",
            "\u001b[K     |████████████████████████████████| 198 kB 36.0 MB/s \n",
            "\u001b[?25hBuilding wheels for collected packages: pyspark\n",
            "  Building wheel for pyspark (setup.py) ... \u001b[?25l\u001b[?25hdone\n",
            "  Created wheel for pyspark: filename=pyspark-3.2.1-py2.py3-none-any.whl size=281853642 sha256=b7b4ba76bac84320eae82c2ce3c6971554b1ee4e54eabfd2def56a38ed49e375\n",
            "  Stored in directory: /root/.cache/pip/wheels/9f/f5/07/7cd8017084dce4e93e84e92efd1e1d5334db05f2e83bcef74f\n",
            "Successfully built pyspark\n",
            "Installing collected packages: py4j, pyspark\n",
            "Successfully installed py4j-0.10.9.3 pyspark-3.2.1\n"
          ]
        }
      ]
    },
    {
      "cell_type": "code",
      "source": [
        "! gdown https://drive.google.com/uc?id=1z1yWXfKVKwohiLca_3mRgJXfkFt7mxbS\n",
        "! gdown https://drive.google.com/uc?id=1mTnou0wDlJkJjRwJW-NUG6j0W8ztS0mN\n",
        "! gdown https://drive.google.com/uc?id=1taweUUv1KdFc2PoL557U-p8DTKBRs0GQ\n",
        "! gdown https://drive.google.com/uc?id=1tW98OX8GoafbnGQEOBY_frSV0pT88GMx"
      ],
      "metadata": {
        "colab": {
          "base_uri": "https://localhost:8080/"
        },
        "id": "q3-6t1zwPZxD",
        "outputId": "595f8fd8-474a-45ae-9d72-502af4ac0792"
      },
      "execution_count": null,
      "outputs": [
        {
          "output_type": "stream",
          "name": "stdout",
          "text": [
            "Downloading...\n",
            "From: https://drive.google.com/uc?id=1z1yWXfKVKwohiLca_3mRgJXfkFt7mxbS\n",
            "To: /content/train.csv\n",
            "100% 1.62M/1.62M [00:00<00:00, 50.7MB/s]\n",
            "Downloading...\n",
            "From: https://drive.google.com/uc?id=1mTnou0wDlJkJjRwJW-NUG6j0W8ztS0mN\n",
            "To: /content/test.csv\n",
            "100% 442k/442k [00:00<00:00, 29.2MB/s]\n",
            "Downloading...\n",
            "From: https://drive.google.com/uc?id=1taweUUv1KdFc2PoL557U-p8DTKBRs0GQ\n",
            "To: /content/dev.csv\n",
            "100% 177k/177k [00:00<00:00, 48.5MB/s]\n",
            "Downloading...\n",
            "From: https://drive.google.com/uc?id=1tW98OX8GoafbnGQEOBY_frSV0pT88GMx\n",
            "To: /content/vietnamese-stopwords-dash.txt\n",
            "100% 20.5k/20.5k [00:00<00:00, 33.7MB/s]\n"
          ]
        }
      ]
    },
    {
      "cell_type": "code",
      "source": [
        "!pip install pyvi"
      ],
      "metadata": {
        "colab": {
          "base_uri": "https://localhost:8080/"
        },
        "id": "F-9WLR_E-Rh6",
        "outputId": "6308b8d8-fa34-42c5-b57e-bad63c0097ce"
      },
      "execution_count": null,
      "outputs": [
        {
          "output_type": "stream",
          "name": "stdout",
          "text": [
            "Collecting pyvi\n",
            "  Downloading pyvi-0.1.1-py2.py3-none-any.whl (8.5 MB)\n",
            "\u001b[K     |████████████████████████████████| 8.5 MB 4.6 MB/s \n",
            "\u001b[?25hCollecting sklearn-crfsuite\n",
            "  Downloading sklearn_crfsuite-0.3.6-py2.py3-none-any.whl (12 kB)\n",
            "Requirement already satisfied: scikit-learn in /usr/local/lib/python3.7/dist-packages (from pyvi) (1.0.2)\n",
            "Requirement already satisfied: threadpoolctl>=2.0.0 in /usr/local/lib/python3.7/dist-packages (from scikit-learn->pyvi) (3.0.0)\n",
            "Requirement already satisfied: scipy>=1.1.0 in /usr/local/lib/python3.7/dist-packages (from scikit-learn->pyvi) (1.4.1)\n",
            "Requirement already satisfied: joblib>=0.11 in /usr/local/lib/python3.7/dist-packages (from scikit-learn->pyvi) (1.1.0)\n",
            "Requirement already satisfied: numpy>=1.14.6 in /usr/local/lib/python3.7/dist-packages (from scikit-learn->pyvi) (1.19.5)\n",
            "Requirement already satisfied: tabulate in /usr/local/lib/python3.7/dist-packages (from sklearn-crfsuite->pyvi) (0.8.9)\n",
            "Requirement already satisfied: six in /usr/local/lib/python3.7/dist-packages (from sklearn-crfsuite->pyvi) (1.15.0)\n",
            "Collecting python-crfsuite>=0.8.3\n",
            "  Downloading python_crfsuite-0.9.7-cp37-cp37m-manylinux1_x86_64.whl (743 kB)\n",
            "\u001b[K     |████████████████████████████████| 743 kB 49.7 MB/s \n",
            "\u001b[?25hRequirement already satisfied: tqdm>=2.0 in /usr/local/lib/python3.7/dist-packages (from sklearn-crfsuite->pyvi) (4.62.3)\n",
            "Installing collected packages: python-crfsuite, sklearn-crfsuite, pyvi\n",
            "Successfully installed python-crfsuite-0.9.7 pyvi-0.1.1 sklearn-crfsuite-0.3.6\n"
          ]
        }
      ]
    },
    {
      "cell_type": "code",
      "source": [
        "import pyspark\n",
        "from pyspark.sql import SparkSession\n",
        "from pyspark.sql import functions as f\n",
        "import pandas as pd\n",
        "from IPython.core.display import display\n",
        "from pyspark.ml.feature import(\n",
        "    Tokenizer,\n",
        "    HashingTF,\n",
        "    IDF,\n",
        "    CountVectorizer\n",
        ")\n",
        "from pyspark.ml.classification import LogisticRegression,NaiveBayes,LinearSVC,DecisionTreeClassifier,RandomForestClassifier, OneVsRest\n",
        "from pyspark.ml import Pipeline\n",
        "from pyspark.ml.evaluation import RegressionEvaluator\n",
        "from pyspark.ml.evaluation import MulticlassClassificationEvaluator\n",
        "from pyspark.mllib.evaluation import MulticlassMetrics\n",
        "from sklearn.metrics import classification_report, confusion_matrix\n",
        "import seaborn as sn\n",
        "from pyvi import ViTokenizer\n",
        "import re\n",
        "import numpy as np\n",
        "import matplotlib.pyplot as plt\n",
        "from matplotlib.pyplot import figure\n",
        "spark = SparkSession.builder.getOrCreate()"
      ],
      "metadata": {
        "id": "bO0WUkx0P4sK"
      },
      "execution_count": null,
      "outputs": []
    },
    {
      "cell_type": "code",
      "source": [
        "# load data\n",
        "train = pd.read_csv(\"train.csv\", index_col=False)\n",
        "dev = pd.read_csv(\"dev.csv\", index_col=False)\n",
        "test = pd.read_csv(\"test.csv\", index_col=False)\n",
        "\n",
        "train.reset_index(drop=True)\n",
        "\n",
        "print(len(train))\n",
        "print(len(dev))\n",
        "print(len(test))"
      ],
      "metadata": {
        "colab": {
          "base_uri": "https://localhost:8080/"
        },
        "id": "QR5xd-ha9eua",
        "outputId": "30f04b79-88c0-43ae-b1d3-6180f96fec7e"
      },
      "execution_count": null,
      "outputs": [
        {
          "output_type": "stream",
          "name": "stdout",
          "text": [
            "24048\n",
            "2672\n",
            "6680\n"
          ]
        }
      ]
    },
    {
      "cell_type": "markdown",
      "source": [
        "# Xử lý data\n"
      ],
      "metadata": {
        "id": "gL8kGk-CmO27"
      }
    },
    {
      "cell_type": "code",
      "source": [
        "#pre-process\n",
        "\n",
        "STOPWORDS = 'vietnamese-stopwords-dash.txt'\n",
        "with open(STOPWORDS, \"r\") as ins:\n",
        "    stopwords = []\n",
        "    for line in ins:\n",
        "        dd = line.strip('\\n')\n",
        "        stopwords.append(dd)\n",
        "    stopwords = set(stopwords)\n",
        "\n",
        "def filter_stop_words(train_sentences, stop_words):\n",
        "    new_sent = [word for word in train_sentences.split() if word not in stop_words]\n",
        "    train_sentences = ' '.join(new_sent)\n",
        "        \n",
        "    return train_sentences\n",
        "\n",
        "def deEmojify(text):\n",
        "    regrex_pattern = re.compile(pattern = \"[\"\n",
        "        u\"\\U0001F600-\\U0001F64F\"  # emoticons\n",
        "        u\"\\U0001F300-\\U0001F5FF\"  # symbols & pictographs\n",
        "        u\"\\U0001F680-\\U0001F6FF\"  # transport & map symbols\n",
        "        u\"\\U0001F1E0-\\U0001F1FF\"  # flags (iOS)\n",
        "                           \"]+\", flags = re.UNICODE)\n",
        "    return regrex_pattern.sub(r'',text)\n",
        "\n",
        "def preprocess(text, tokenized=True, lowercased=True):\n",
        "    text = text.lower() if lowercased else text\n",
        "    text = ViTokenizer.tokenize(text) if tokenized else text\n",
        "    text = filter_stop_words(text, stopwords)\n",
        "    text = deEmojify(text)\n",
        "    text = re.sub(r'[^\\w\\s]', '', text)\n",
        "    text = re.sub(r'\\s+', ' ', text).strip()\n",
        "    text = text if len(text) > 1 else ''\n",
        "    \n",
        "    return text\n",
        "\n",
        "def pre_process_features(X, y, tokenized=True, lowercased=True):\n",
        "    X = [preprocess(str(p), tokenized=tokenized, lowercased=lowercased) for p in list(X)]\n",
        "    for idx, ele in enumerate(X):\n",
        "        if not ele:\n",
        "            np.delete(X, idx)\n",
        "            np.delete(y, idx)\n",
        "    return X, y\n",
        "\n",
        "X_train = train['free_text']\n",
        "y_train = train['label_id'].values\n",
        "\n",
        "X_dev = dev['free_text']\n",
        "y_dev = dev['label_id'].values\n",
        "\n",
        "X_test = test['free_text']\n",
        "y_test = test['label_id'].values"
      ],
      "metadata": {
        "id": "xO0O6BkI9z6l"
      },
      "execution_count": null,
      "outputs": []
    },
    {
      "cell_type": "code",
      "source": [
        "train_X, train_y = pre_process_features(X_train, y_train, tokenized=True, lowercased = False)\n",
        "dev_X, dev_y = pre_process_features(X_dev, y_dev, tokenized=True, lowercased = False)\n",
        "test_X, test_y = pre_process_features(X_test, y_test, tokenized=True, lowercased = False)\n",
        "\n",
        "train = pd.DataFrame({'text': train_X, 'labels': train_y})\n",
        "dev = pd.DataFrame({'text': dev_X, 'labels': dev_y})\n",
        "test = pd.DataFrame({'text': test_X, 'labels': test_y})\n"
      ],
      "metadata": {
        "id": "BTSp5QtY9z3u"
      },
      "execution_count": null,
      "outputs": []
    },
    {
      "cell_type": "code",
      "source": [
        "train = pd.DataFrame({'text': train_X, 'labels': train_y})\n",
        "dev = pd.DataFrame({'text': dev_X, 'labels': dev_y})\n",
        "test = pd.DataFrame({'text': test_X, 'labels': test_y})"
      ],
      "metadata": {
        "id": "F-69-jQS8yhE"
      },
      "execution_count": null,
      "outputs": []
    },
    {
      "cell_type": "code",
      "source": [
        "train = train[train.text != '']\n",
        "test = test[test.text != '']\n",
        "dev = dev[dev.text != '']"
      ],
      "metadata": {
        "id": "QDWKF1iTzsz8"
      },
      "execution_count": null,
      "outputs": []
    },
    {
      "cell_type": "code",
      "source": [
        "trainDataset = spark.createDataFrame(train)\n",
        "testDataset = spark.createDataFrame(test)\n",
        "devDataset =  spark.createDataFrame(dev)"
      ],
      "metadata": {
        "id": "k6yD381mY17m"
      },
      "execution_count": null,
      "outputs": []
    },
    {
      "cell_type": "markdown",
      "source": [
        "# Load data clean"
      ],
      "metadata": {
        "id": "GkVlPFSYmIAu"
      }
    },
    {
      "cell_type": "code",
      "source": [
        "! gdown https://drive.google.com/uc?id=1GjQ4ZXSfTGYSb5WauBegS62EXirK4fug\n",
        "! gdown https://drive.google.com/uc?id=1lzOIEmOlB7lkb0gaUm_lrb5k-PDOq5u7\n",
        "! gdown https://drive.google.com/uc?id=1SSnCct-pu36WZe9Qfy1m96qgYHyt0g8a\n",
        "! gdown https://drive.google.com/uc?id=1tW98OX8GoafbnGQEOBY_frSV0pT88GMx"
      ],
      "metadata": {
        "colab": {
          "base_uri": "https://localhost:8080/"
        },
        "id": "QbImbkeBmK95",
        "outputId": "1204d106-4ab3-4f84-838f-0ee348221437"
      },
      "execution_count": null,
      "outputs": [
        {
          "output_type": "stream",
          "name": "stdout",
          "text": [
            "Downloading...\n",
            "From: https://drive.google.com/uc?id=1GjQ4ZXSfTGYSb5WauBegS62EXirK4fug\n",
            "To: /content/dev_clean.csv\n",
            "100% 107k/107k [00:00<00:00, 35.7MB/s]\n",
            "Downloading...\n",
            "From: https://drive.google.com/uc?id=1lzOIEmOlB7lkb0gaUm_lrb5k-PDOq5u7\n",
            "To: /content/test_clean.csv\n",
            "100% 270k/270k [00:00<00:00, 88.2MB/s]\n",
            "Downloading...\n",
            "From: https://drive.google.com/uc?id=1SSnCct-pu36WZe9Qfy1m96qgYHyt0g8a\n",
            "To: /content/train_clean.csv\n",
            "100% 1.00M/1.00M [00:00<00:00, 61.5MB/s]\n",
            "Downloading...\n",
            "From: https://drive.google.com/uc?id=1tW98OX8GoafbnGQEOBY_frSV0pT88GMx\n",
            "To: /content/vietnamese-stopwords-dash.txt\n",
            "100% 20.5k/20.5k [00:00<00:00, 34.5MB/s]\n"
          ]
        }
      ]
    },
    {
      "cell_type": "code",
      "source": [
        "trainDataset = spark.read.csv('train_clean.csv',\\\n",
        "                     header=True, inferSchema=True)\n",
        "testDataset = spark.read.csv('test_clean.csv',\\\n",
        "                     header=True, inferSchema=True)\n",
        "devDataset =  spark.read.csv('dev_clean.csv',\\\n",
        "                     header=True, inferSchema=True)\n"
      ],
      "metadata": {
        "id": "CHDCqxSQ9zyR"
      },
      "execution_count": null,
      "outputs": []
    },
    {
      "cell_type": "markdown",
      "source": [
        "# Show data"
      ],
      "metadata": {
        "id": "J7GazRi84CXs"
      }
    },
    {
      "cell_type": "code",
      "source": [
        "figure(figsize=(8, 6), dpi=90)\n",
        "train0 = trainDataset.filter(\"labels == 0\").count()\n",
        "train1 = trainDataset.filter(\"labels == 1\").count()\n",
        "train2 = trainDataset.filter(\"labels == 2\").count()\n",
        "test0 = testDataset.filter(\"labels == 0\").count()\n",
        "test1 = testDataset.filter(\"labels == 1\").count()\n",
        "test2 = testDataset.filter(\"labels == 2\").count()\n",
        "dev0 = devDataset.filter(\"labels == 0\").count()\n",
        "dev1 = devDataset.filter(\"labels == 1\").count()\n",
        "dev2 = devDataset.filter(\"labels == 2\").count()\n",
        "thuoctinh = ['train','test','dev']\n",
        "label0 = [train0,test0,dev0]\n",
        "label1 = [train1,test1,dev1]\n",
        "label2 = [train2,test2,dev2]\n",
        "index = np.arange(3)\n",
        "width = 0.3\n",
        "plt.bar(index,label0,width,color='red',label='CLEAN')\n",
        "plt.bar(index+width,label1,width,color='green',label='OFFENSIVE')\n",
        "plt.bar(index+2*width,label2,width,color='blue',label='HATE')\n",
        "plt.title(\"Bộ dữ liệu\")\n",
        "plt.ylabel(\"Số lượng\")\n",
        "plt.xlabel(\"Tập dữ liệu\")\n",
        "plt.xticks(index+width,thuoctinh)\n",
        "plt.legend()\n",
        "plt.show()"
      ],
      "metadata": {
        "colab": {
          "base_uri": "https://localhost:8080/"
        },
        "id": "P7dLc1KZ4Ji2",
        "outputId": "fe103699-a5e9-4430-f2f2-434f65f6c4de"
      },
      "execution_count": null,
      "outputs": [
        {
          "output_type": "display_data",
          "data": {
            "image/png": "[encoded data removed]",
            "text/plain": [
              "<Figure size 720x540 with 1 Axes>"
            ]
          },
          "metadata": {
            "needs_background": "light"
          }
        }
      ]
    },
    {
      "cell_type": "markdown",
      "source": [
        "# RUN model pipeline 1\n"
      ],
      "metadata": {
        "id": "Ap6nLGP3uQGF"
      }
    },
    {
      "cell_type": "code",
      "source": [
        "tokenizer = Tokenizer(inputCol=\"text\", outputCol= \"word1\" )\n",
        "count_vec = CountVectorizer(inputCol = 'word1', outputCol = 'out_count')\n",
        "idf = IDF(\n",
        "    inputCol = \"out_count\",\n",
        "    outputCol = \"features\",\n",
        "    minDocFreq = 5,\n",
        ")"
      ],
      "metadata": {
        "id": "jhGNpD0eN4eW"
      },
      "execution_count": null,
      "outputs": []
    },
    {
      "cell_type": "code",
      "source": [
        "lr_LogisticRegression = LogisticRegression(labelCol= \"labels\")\n",
        "pipeline_LogisticRegression = Pipeline(stages=[tokenizer,count_vec,idf, lr_LogisticRegression])\n",
        "model_LogisticRegression = pipeline_LogisticRegression.fit(trainDataset)\n",
        "test_df = model_LogisticRegression.transform(testDataset)\n",
        "evaluator = MulticlassClassificationEvaluator(labelCol=\"labels\",metricName=\"accuracy\")\n",
        "accuracy_test = evaluator.evaluate(test_df)\n",
        "# Show out the confusion matrix\n",
        "y_true = test_df.select(['labels']).collect()\n",
        "y_pred = test_df.select(['prediction']).collect()\n",
        "print(classification_report(y_true, y_pred))\n",
        "cf1 = confusion_matrix(y_true, y_pred)\n",
        "df_cm1 = pd.DataFrame(cf1, index = [\"clean\",\"offensive\",\"hate\"],\n",
        "                  columns = [\"clean\",\"offensive\",\"hate\"])\n",
        "plt.clf()\n",
        "sn.heatmap(df_cm1, annot=True, cmap=\"Greys\",fmt='g', cbar=True, annot_kws={\"size\": 30})"
      ],
      "metadata": {
        "id": "hjvgor3iBkyp",
        "colab": {
          "base_uri": "https://localhost:8080/",
          "height": 456
        },
        "outputId": "78983a39-14f5-4e9e-d5f8-50e3fd7ff757"
      },
      "execution_count": null,
      "outputs": [
        {
          "output_type": "stream",
          "name": "stdout",
          "text": [
            "              precision    recall  f1-score   support\n",
            "\n",
            "           0       0.90      0.90      0.90      5445\n",
            "           1       0.30      0.33      0.31       444\n",
            "           2       0.44      0.43      0.43       688\n",
            "\n",
            "    accuracy                           0.81      6577\n",
            "   macro avg       0.55      0.55      0.55      6577\n",
            "weighted avg       0.82      0.81      0.81      6577\n",
            "\n"
          ]
        },
        {
          "output_type": "execute_result",
          "data": {
            "text/plain": [
              "<matplotlib.axes._subplots.AxesSubplot at 0x7fc16dcbf7d0>"
            ]
          },
          "metadata": {},
          "execution_count": 24
        },
        {
          "output_type": "display_data",
          "data": {
            "image/png": "[encoded data removed]",
            "text/plain": [
              "<Figure size 432x288 with 2 Axes>"
            ]
          },
          "metadata": {
            "needs_background": "light"
          }
        }
      ]
    },
    {
      "cell_type": "code",
      "source": [
        "nb = NaiveBayes(labelCol =\"labels\",featuresCol =\"features\", smoothing=1.0, modelType=\"multinomial\",)\n",
        "pipeline_NaiveBayes = Pipeline(stages=[tokenizer,count_vec,idf, nb])\n",
        "model_NaiveBayes = pipeline_NaiveBayes.fit(trainDataset)\n",
        "test_df = model_NaiveBayes.transform(testDataset)\n",
        "evaluator = MulticlassClassificationEvaluator(labelCol=\"labels\",metricName=\"accuracy\")\n",
        "accuracy_test = evaluator.evaluate(test_df)\n",
        "# Show out the confusion matrix\n",
        "y_true = test_df.select(['labels']).collect()\n",
        "y_pred = test_df.select(['prediction']).collect()\n",
        "print(classification_report(y_true, y_pred))\n",
        "cf1 = confusion_matrix(y_true, y_pred)\n",
        "df_cm1 = pd.DataFrame(cf1, index = [\"clean\",\"offensive\",\"hate\"],\n",
        "                  columns = [\"clean\",\"offensive\",\"hate\"])\n",
        "plt.clf()\n",
        "sn.heatmap(df_cm1, annot=True, cmap=\"Greys\",fmt='g', cbar=True, annot_kws={\"size\": 30})"
      ],
      "metadata": {
        "colab": {
          "base_uri": "https://localhost:8080/",
          "height": 457
        },
        "id": "YLjVMJF7kUMv",
        "outputId": "0781947d-98d6-4617-c82d-7266611932e1"
      },
      "execution_count": null,
      "outputs": [
        {
          "output_type": "stream",
          "name": "stdout",
          "text": [
            "              precision    recall  f1-score   support\n",
            "\n",
            "           0       0.93      0.84      0.88      5445\n",
            "           1       0.28      0.33      0.30       444\n",
            "           2       0.37      0.62      0.46       688\n",
            "\n",
            "    accuracy                           0.78      6577\n",
            "   macro avg       0.53      0.60      0.55      6577\n",
            "weighted avg       0.83      0.78      0.80      6577\n",
            "\n"
          ]
        },
        {
          "output_type": "execute_result",
          "data": {
            "text/plain": [
              "<matplotlib.axes._subplots.AxesSubplot at 0x7fc16dcb6f90>"
            ]
          },
          "metadata": {},
          "execution_count": 25
        },
        {
          "output_type": "display_data",
          "data": {
            "image/png": "[encoded data removed]",
            "text/plain": [
              "<Figure size 432x288 with 2 Axes>"
            ]
          },
          "metadata": {
            "needs_background": "light"
          }
        }
      ]
    },
    {
      "cell_type": "code",
      "source": [
        "dtc = DecisionTreeClassifier(labelCol =\"labels\",featuresCol =\"features\", maxBins = 5129)\n",
        "pipeline_DecisionTree = Pipeline(stages=[tokenizer,count_vec,idf, dtc])\n",
        "model_DecisionTree = pipeline_DecisionTree.fit(trainDataset)\n",
        "test_df = model_DecisionTree.transform(testDataset)\n",
        "evaluator = MulticlassClassificationEvaluator(labelCol=\"labels\",metricName=\"accuracy\")\n",
        "accuracy_test = evaluator.evaluate(test_df)\n",
        "# Show out the confusion matrix\n",
        "y_true = test_df.select(['labels']).collect()\n",
        "y_pred = test_df.select(['prediction']).collect()\n",
        "print(classification_report(y_true, y_pred))\n",
        "cf1 = confusion_matrix(y_true, y_pred)\n",
        "df_cm1 = pd.DataFrame(cf1, index = [\"clean\",\"offensive\",\"hate\"],\n",
        "                  columns = [\"clean\",\"offensive\",\"hate\"])\n",
        "plt.clf()\n",
        "sn.heatmap(df_cm1, annot=True, cmap=\"Greys\",fmt='g', cbar=True, annot_kws={\"size\": 30})"
      ],
      "metadata": {
        "id": "M1Jys_YQlfiS",
        "colab": {
          "base_uri": "https://localhost:8080/",
          "height": 456
        },
        "outputId": "04ffd3c5-3c60-4683-94f1-18c625cea71f"
      },
      "execution_count": null,
      "outputs": [
        {
          "output_type": "stream",
          "name": "stdout",
          "text": [
            "              precision    recall  f1-score   support\n",
            "\n",
            "           0       0.85      0.99      0.92      5445\n",
            "           1       0.48      0.07      0.13       444\n",
            "           2       0.59      0.16      0.25       688\n",
            "\n",
            "    accuracy                           0.84      6577\n",
            "   macro avg       0.64      0.41      0.43      6577\n",
            "weighted avg       0.80      0.84      0.79      6577\n",
            "\n"
          ]
        },
        {
          "output_type": "execute_result",
          "data": {
            "text/plain": [
              "<matplotlib.axes._subplots.AxesSubplot at 0x7fc1726a90d0>"
            ]
          },
          "metadata": {},
          "execution_count": 26
        },
        {
          "output_type": "display_data",
          "data": {
            "image/png": "[encoded data removed]",
            "text/plain": [
              "<Figure size 432x288 with 2 Axes>"
            ]
          },
          "metadata": {
            "needs_background": "light"
          }
        }
      ]
    },
    {
      "cell_type": "code",
      "source": [
        "rfc = RandomForestClassifier(labelCol =\"labels\",featuresCol =\"features\", numTrees=5, maxBins = 5129)\n",
        "pipeline_RandomForest = Pipeline(stages=[tokenizer,count_vec,idf, rfc])\n",
        "model_RandomForest = pipeline_RandomForest.fit(trainDataset)\n",
        "test_df = model_RandomForest.transform(testDataset)\n",
        "evaluator = MulticlassClassificationEvaluator(labelCol=\"labels\",metricName=\"accuracy\")\n",
        "accuracy_test = evaluator.evaluate(test_df)\n",
        "# Show out the confusion matrix\n",
        "y_true = test_df.select(['labels']).collect()\n",
        "y_pred = test_df.select(['prediction']).collect()\n",
        "print(classification_report(y_true, y_pred))\n",
        "cf1 = confusion_matrix(y_true, y_pred)\n",
        "df_cm1 = pd.DataFrame(cf1, index = [\"clean\",\"offensive\",\"hate\"],\n",
        "                  columns = [\"clean\",\"offensive\",\"hate\"])\n",
        "plt.clf()\n",
        "sn.heatmap(df_cm1, annot=True, cmap=\"Greys\",fmt='g', cbar=True, annot_kws={\"size\": 30})"
      ],
      "metadata": {
        "id": "L2H72k3BFPLN",
        "colab": {
          "base_uri": "https://localhost:8080/",
          "height": 580
        },
        "outputId": "d2659193-33d3-439d-d43e-db21200005cf"
      },
      "execution_count": null,
      "outputs": [
        {
          "output_type": "stream",
          "name": "stderr",
          "text": [
            "/usr/local/lib/python3.7/dist-packages/sklearn/metrics/_classification.py:1318: UndefinedMetricWarning: Precision and F-score are ill-defined and being set to 0.0 in labels with no predicted samples. Use `zero_division` parameter to control this behavior.\n",
            "  _warn_prf(average, modifier, msg_start, len(result))\n",
            "/usr/local/lib/python3.7/dist-packages/sklearn/metrics/_classification.py:1318: UndefinedMetricWarning: Precision and F-score are ill-defined and being set to 0.0 in labels with no predicted samples. Use `zero_division` parameter to control this behavior.\n",
            "  _warn_prf(average, modifier, msg_start, len(result))\n",
            "/usr/local/lib/python3.7/dist-packages/sklearn/metrics/_classification.py:1318: UndefinedMetricWarning: Precision and F-score are ill-defined and being set to 0.0 in labels with no predicted samples. Use `zero_division` parameter to control this behavior.\n",
            "  _warn_prf(average, modifier, msg_start, len(result))\n"
          ]
        },
        {
          "output_type": "stream",
          "name": "stdout",
          "text": [
            "              precision    recall  f1-score   support\n",
            "\n",
            "           0       0.83      1.00      0.91      5445\n",
            "           1       0.00      0.00      0.00       444\n",
            "           2       0.00      0.00      0.00       688\n",
            "\n",
            "    accuracy                           0.83      6577\n",
            "   macro avg       0.28      0.33      0.30      6577\n",
            "weighted avg       0.69      0.83      0.75      6577\n",
            "\n"
          ]
        },
        {
          "output_type": "execute_result",
          "data": {
            "text/plain": [
              "<matplotlib.axes._subplots.AxesSubplot at 0x7fc17266d290>"
            ]
          },
          "metadata": {},
          "execution_count": 27
        },
        {
          "output_type": "display_data",
          "data": {
            "image/png": "[encoded data removed]",
            "text/plain": [
              "<Figure size 432x288 with 2 Axes>"
            ]
          },
          "metadata": {
            "needs_background": "light"
          }
        }
      ]
    },
    {
      "cell_type": "code",
      "source": [
        "df = trainDataset.selectExpr(\"text\",\"labels as label\")\n",
        "df1 = testDataset.selectExpr(\"text\",\"labels as label\")\n",
        "df2 = devDataset.selectExpr(\"text\",\"labels as label\")\n",
        "lsvc = LinearSVC(labelCol =\"label\", featuresCol =\"features\")\n",
        "ovr = OneVsRest(classifier=lsvc)\n",
        "pipeline_lsvc = Pipeline(stages=[tokenizer,count_vec,idf, ovr])\n",
        "model_lsvc = pipeline_lsvc.fit(df)\n",
        "test_df = model_lsvc.transform(df1)\n",
        "evaluator = MulticlassClassificationEvaluator(labelCol=\"label\",metricName=\"accuracy\")\n",
        "accuracy_test = evaluator.evaluate(test_df)\n",
        "# Show out the confusion matrix\n",
        "y_true = test_df.select(['label']).collect()\n",
        "y_pred = test_df.select(['prediction']).collect()\n",
        "print(classification_report(y_true, y_pred))\n",
        "cf1 = confusion_matrix(y_true, y_pred)\n",
        "df_cm1 = pd.DataFrame(cf1, index = [\"clean\",\"offensive\",\"hate\"],\n",
        "                  columns = [\"clean\",\"offensive\",\"hate\"])\n",
        "plt.clf()\n",
        "sn.heatmap(df_cm1, annot=True, cmap=\"Greys\",fmt='g', cbar=True, annot_kws={\"size\": 30})"
      ],
      "metadata": {
        "colab": {
          "base_uri": "https://localhost:8080/",
          "height": 456
        },
        "id": "7LWGhNVUGZVU",
        "outputId": "c1ed0bdd-1854-49a9-a35e-476f1bd345e8"
      },
      "execution_count": null,
      "outputs": [
        {
          "output_type": "stream",
          "name": "stdout",
          "text": [
            "              precision    recall  f1-score   support\n",
            "\n",
            "           0       0.90      0.94      0.92      5445\n",
            "           1       0.38      0.29      0.33       444\n",
            "           2       0.53      0.44      0.48       688\n",
            "\n",
            "    accuracy                           0.84      6577\n",
            "   macro avg       0.60      0.56      0.58      6577\n",
            "weighted avg       0.83      0.84      0.84      6577\n",
            "\n"
          ]
        },
        {
          "output_type": "execute_result",
          "data": {
            "text/plain": [
              "<matplotlib.axes._subplots.AxesSubplot at 0x7fc164ee5290>"
            ]
          },
          "metadata": {},
          "execution_count": 30
        },
        {
          "output_type": "display_data",
          "data": {
            "image/png": "[encoded data removed]",
            "text/plain": [
              "<Figure size 432x288 with 2 Axes>"
            ]
          },
          "metadata": {
            "needs_background": "light"
          }
        }
      ]
    },
    {
      "cell_type": "markdown",
      "source": [
        "# RUN model pipeline 2\n"
      ],
      "metadata": {
        "id": "eMZUBranHity"
      }
    },
    {
      "cell_type": "code",
      "source": [
        "tokenizer = Tokenizer(inputCol=\"text\", outputCol= \"word1\" )\n",
        "hashing_tf= HashingTF(\n",
        "    inputCol= \"word1\",\n",
        "    outputCol= \"term\",\n",
        ")\n",
        "idf = IDF(\n",
        "    inputCol = \"term\",\n",
        "    outputCol = \"features\",\n",
        "    minDocFreq = 5,\n",
        ")"
      ],
      "metadata": {
        "id": "wWtzW_1YOGKj"
      },
      "execution_count": null,
      "outputs": []
    },
    {
      "cell_type": "code",
      "source": [
        "lr_LogisticRegression = LogisticRegression(labelCol= \"labels\")\n",
        "pipeline_LogisticRegression = Pipeline(stages=[tokenizer,hashing_tf,idf, lr_LogisticRegression])\n",
        "model_LogisticRegression = pipeline_LogisticRegression.fit(trainDataset)\n",
        "test_df = model_LogisticRegression.transform(testDataset)\n",
        "evaluator = MulticlassClassificationEvaluator(labelCol=\"labels\",metricName=\"accuracy\")\n",
        "accuracy_test = evaluator.evaluate(test_df)\n",
        "# Show out the confusion matrix\n",
        "y_true = test_df.select(['labels']).collect()\n",
        "y_pred = test_df.select(['prediction']).collect()\n",
        "print(classification_report(y_true, y_pred))\n",
        "cf1 = confusion_matrix(y_true, y_pred)\n",
        "df_cm1 = pd.DataFrame(cf1, index = [\"clean\",\"offensive\",\"hate\"],\n",
        "                  columns = [\"clean\",\"offensive\",\"hate\"])\n",
        "plt.clf()\n",
        "sn.heatmap(df_cm1, annot=True, cmap=\"Greys\",fmt='g', cbar=True, annot_kws={\"size\": 30})"
      ],
      "metadata": {
        "colab": {
          "base_uri": "https://localhost:8080/",
          "height": 456
        },
        "outputId": "842dd999-2faf-4647-e23f-3ae6efef2668",
        "id": "fQUZm03BHity"
      },
      "execution_count": null,
      "outputs": [
        {
          "output_type": "stream",
          "name": "stdout",
          "text": [
            "              precision    recall  f1-score   support\n",
            "\n",
            "           0       0.91      0.90      0.90      5445\n",
            "           1       0.28      0.31      0.30       444\n",
            "           2       0.44      0.43      0.44       688\n",
            "\n",
            "    accuracy                           0.81      6577\n",
            "   macro avg       0.54      0.55      0.55      6577\n",
            "weighted avg       0.81      0.81      0.81      6577\n",
            "\n"
          ]
        },
        {
          "output_type": "execute_result",
          "data": {
            "text/plain": [
              "<matplotlib.axes._subplots.AxesSubplot at 0x7f5e288fbfd0>"
            ]
          },
          "metadata": {},
          "execution_count": 10
        },
        {
          "output_type": "display_data",
          "data": {
            "image/png": "[encoded data removed]",
            "text/plain": [
              "<Figure size 432x288 with 2 Axes>"
            ]
          },
          "metadata": {
            "needs_background": "light"
          }
        }
      ]
    },
    {
      "cell_type": "code",
      "source": [
        "nb = NaiveBayes(labelCol =\"labels\",featuresCol =\"features\", smoothing=1.0, modelType=\"multinomial\",)\n",
        "pipeline_NaiveBayes = Pipeline(stages=[tokenizer,hashing_tf,idf, nb])\n",
        "model_NaiveBayes = pipeline_NaiveBayes.fit(trainDataset)\n",
        "test_df = model_NaiveBayes.transform(testDataset)\n",
        "evaluator = MulticlassClassificationEvaluator(labelCol=\"labels\",metricName=\"accuracy\")\n",
        "accuracy_test = evaluator.evaluate(test_df)\n",
        "# Show out the confusion matrix\n",
        "y_true = test_df.select(['labels']).collect()\n",
        "y_pred = test_df.select(['prediction']).collect()\n",
        "print(classification_report(y_true, y_pred))\n",
        "cf1 = confusion_matrix(y_true, y_pred)\n",
        "df_cm1 = pd.DataFrame(cf1, index = [\"clean\",\"offensive\",\"hate\"],\n",
        "                  columns = [\"clean\",\"offensive\",\"hate\"])\n",
        "plt.clf()\n",
        "sn.heatmap(df_cm1, annot=True, cmap=\"Greys\",fmt='g', cbar=True, annot_kws={\"size\": 30})"
      ],
      "metadata": {
        "colab": {
          "base_uri": "https://localhost:8080/",
          "height": 456
        },
        "outputId": "3f0bee29-66d8-4c6d-9dc1-bc2c6f0579cb",
        "id": "iqdOI0AyHity"
      },
      "execution_count": null,
      "outputs": [
        {
          "output_type": "stream",
          "name": "stdout",
          "text": [
            "              precision    recall  f1-score   support\n",
            "\n",
            "           0       0.87      0.97      0.92      5445\n",
            "           1       0.61      0.06      0.10       444\n",
            "           2       0.51      0.35      0.41       688\n",
            "\n",
            "    accuracy                           0.85      6577\n",
            "   macro avg       0.66      0.46      0.48      6577\n",
            "weighted avg       0.82      0.85      0.81      6577\n",
            "\n"
          ]
        },
        {
          "output_type": "execute_result",
          "data": {
            "text/plain": [
              "<matplotlib.axes._subplots.AxesSubplot at 0x7fda4348ffd0>"
            ]
          },
          "metadata": {},
          "execution_count": 9
        },
        {
          "output_type": "display_data",
          "data": {
            "image/png": "[encoded data removed]",
            "text/plain": [
              "<Figure size 432x288 with 2 Axes>"
            ]
          },
          "metadata": {
            "needs_background": "light"
          }
        }
      ]
    },
    {
      "cell_type": "code",
      "source": [
        "dtc = DecisionTreeClassifier(labelCol =\"labels\",featuresCol =\"features\", maxDepth=3,maxBins = 15)\n",
        "pipeline_DecisionTree = Pipeline(stages=[tokenizer,hashing_tf,idf, dtc])\n",
        "model_DecisionTree = pipeline_DecisionTree.fit(trainDataset)\n",
        "test_df = model_DecisionTree.transform(testDataset)\n",
        "evaluator = MulticlassClassificationEvaluator(labelCol=\"labels\",metricName=\"accuracy\")\n",
        "accuracy_test = evaluator.evaluate(test_df)\n",
        "# Show out the confusion matrix\n",
        "y_true = test_df.select(['labels']).collect()\n",
        "y_pred = test_df.select(['prediction']).collect()\n",
        "print(classification_report(y_true, y_pred))\n",
        "cf1 = confusion_matrix(y_true, y_pred)\n",
        "df_cm1 = pd.DataFrame(cf1, index = [\"clean\",\"offensive\",\"hate\"],\n",
        "                  columns = [\"clean\",\"offensive\",\"hate\"])\n",
        "plt.clf()\n",
        "sn.heatmap(df_cm1, annot=True, cmap=\"Greys\",fmt='g', cbar=True, annot_kws={\"size\": 30})"
      ],
      "metadata": {
        "id": "06OKRmWMHitz",
        "colab": {
          "base_uri": "https://localhost:8080/",
          "height": 580
        },
        "outputId": "ee6a5343-9360-4acb-fc2e-48d2068c41ea"
      },
      "execution_count": null,
      "outputs": [
        {
          "output_type": "stream",
          "name": "stderr",
          "text": [
            "/usr/local/lib/python3.7/dist-packages/sklearn/metrics/_classification.py:1318: UndefinedMetricWarning: Precision and F-score are ill-defined and being set to 0.0 in labels with no predicted samples. Use `zero_division` parameter to control this behavior.\n",
            "  _warn_prf(average, modifier, msg_start, len(result))\n",
            "/usr/local/lib/python3.7/dist-packages/sklearn/metrics/_classification.py:1318: UndefinedMetricWarning: Precision and F-score are ill-defined and being set to 0.0 in labels with no predicted samples. Use `zero_division` parameter to control this behavior.\n",
            "  _warn_prf(average, modifier, msg_start, len(result))\n",
            "/usr/local/lib/python3.7/dist-packages/sklearn/metrics/_classification.py:1318: UndefinedMetricWarning: Precision and F-score are ill-defined and being set to 0.0 in labels with no predicted samples. Use `zero_division` parameter to control this behavior.\n",
            "  _warn_prf(average, modifier, msg_start, len(result))\n"
          ]
        },
        {
          "output_type": "stream",
          "name": "stdout",
          "text": [
            "              precision    recall  f1-score   support\n",
            "\n",
            "           0       0.85      0.98      0.91      5445\n",
            "           1       0.00      0.00      0.00       444\n",
            "           2       0.49      0.17      0.25       688\n",
            "\n",
            "    accuracy                           0.83      6577\n",
            "   macro avg       0.45      0.39      0.39      6577\n",
            "weighted avg       0.75      0.83      0.78      6577\n",
            "\n"
          ]
        },
        {
          "output_type": "execute_result",
          "data": {
            "text/plain": [
              "<matplotlib.axes._subplots.AxesSubplot at 0x7ff818fd1290>"
            ]
          },
          "metadata": {},
          "execution_count": 9
        },
        {
          "output_type": "display_data",
          "data": {
            "image/png": "[encoded data removed]",
            "text/plain": [
              "<Figure size 432x288 with 2 Axes>"
            ]
          },
          "metadata": {
            "needs_background": "light"
          }
        }
      ]
    },
    {
      "cell_type": "code",
      "source": [
        "rfc = RandomForestClassifier(labelCol =\"labels\",featuresCol =\"features\", numTrees=5, maxBins = 5129)\n",
        "pipeline_RandomForest = Pipeline(stages=[tokenizer,hashing_tf,idf, rfc])\n",
        "model_RandomForest = pipeline_RandomForest.fit(trainDataset)\n",
        "test_df = model_RandomForest.transform(testDataset)\n",
        "evaluator = MulticlassClassificationEvaluator(labelCol=\"labels\",metricName=\"accuracy\")\n",
        "accuracy_test = evaluator.evaluate(test_df)\n",
        "# Show out the confusion matrix\n",
        "y_true = test_df.select(['labels']).collect()\n",
        "y_pred = test_df.select(['prediction']).collect()\n",
        "print(classification_report(y_true, y_pred))\n",
        "cf1 = confusion_matrix(y_true, y_pred)\n",
        "df_cm1 = pd.DataFrame(cf1, index = [\"clean\",\"offensive\",\"hate\"],\n",
        "                  columns = [\"clean\",\"offensive\",\"hate\"])\n",
        "plt.clf()\n",
        "sn.heatmap(df_cm1, annot=True, cmap=\"Greys\",fmt='g', cbar=True, annot_kws={\"size\": 30})"
      ],
      "metadata": {
        "id": "X1_N_r8PHitz",
        "colab": {
          "base_uri": "https://localhost:8080/",
          "height": 580
        },
        "outputId": "940fffb6-e7cc-4c92-aa9b-838935d3a4e2"
      },
      "execution_count": null,
      "outputs": [
        {
          "output_type": "stream",
          "name": "stderr",
          "text": [
            "/usr/local/lib/python3.7/dist-packages/sklearn/metrics/_classification.py:1318: UndefinedMetricWarning: Precision and F-score are ill-defined and being set to 0.0 in labels with no predicted samples. Use `zero_division` parameter to control this behavior.\n",
            "  _warn_prf(average, modifier, msg_start, len(result))\n",
            "/usr/local/lib/python3.7/dist-packages/sklearn/metrics/_classification.py:1318: UndefinedMetricWarning: Precision and F-score are ill-defined and being set to 0.0 in labels with no predicted samples. Use `zero_division` parameter to control this behavior.\n",
            "  _warn_prf(average, modifier, msg_start, len(result))\n",
            "/usr/local/lib/python3.7/dist-packages/sklearn/metrics/_classification.py:1318: UndefinedMetricWarning: Precision and F-score are ill-defined and being set to 0.0 in labels with no predicted samples. Use `zero_division` parameter to control this behavior.\n",
            "  _warn_prf(average, modifier, msg_start, len(result))\n"
          ]
        },
        {
          "output_type": "stream",
          "name": "stdout",
          "text": [
            "              precision    recall  f1-score   support\n",
            "\n",
            "           0       0.83      1.00      0.91      5445\n",
            "           1       0.00      0.00      0.00       444\n",
            "           2       0.00      0.00      0.00       688\n",
            "\n",
            "    accuracy                           0.83      6577\n",
            "   macro avg       0.28      0.33      0.30      6577\n",
            "weighted avg       0.69      0.83      0.75      6577\n",
            "\n"
          ]
        },
        {
          "output_type": "execute_result",
          "data": {
            "text/plain": [
              "<matplotlib.axes._subplots.AxesSubplot at 0x7ff810248ed0>"
            ]
          },
          "metadata": {},
          "execution_count": 10
        },
        {
          "output_type": "display_data",
          "data": {
            "image/png": "[encoded data removed]",
            "text/plain": [
              "<Figure size 432x288 with 2 Axes>"
            ]
          },
          "metadata": {
            "needs_background": "light"
          }
        }
      ]
    },
    {
      "cell_type": "code",
      "source": [
        "df = trainDataset.selectExpr(\"text\",\"labels as label\")\n",
        "df1 = testDataset.selectExpr(\"text\",\"labels as label\")\n",
        "df2 = devDataset.selectExpr(\"text\",\"labels as label\")\n",
        "lsvc = LinearSVC(labelCol =\"label\", featuresCol =\"features\")\n",
        "ovr = OneVsRest(classifier=lsvc)\n",
        "pipeline_lsvc = Pipeline(stages=[tokenizer,hashing_tf,idf, ovr])\n",
        "model_lsvc = pipeline_lsvc.fit(df)\n",
        "test_df = model_lsvc.transform(df1)\n",
        "evaluator = MulticlassClassificationEvaluator(labelCol=\"label\",metricName=\"accuracy\")\n",
        "accuracy_test = evaluator.evaluate(test_df)\n",
        "# Show out the confusion matrix\n",
        "y_true = test_df.select(['label']).collect()\n",
        "y_pred = test_df.select(['prediction']).collect()\n",
        "print(classification_report(y_true, y_pred))\n",
        "cf1 = confusion_matrix(y_true, y_pred)\n",
        "df_cm1 = pd.DataFrame(cf1, index = [\"clean\",\"offensive\",\"hate\"],\n",
        "                  columns = [\"clean\",\"offensive\",\"hate\"])\n",
        "plt.clf()\n",
        "sn.heatmap(df_cm1, annot=True, cmap=\"Greys\",fmt='g', cbar=True, annot_kws={\"size\": 30})"
      ],
      "metadata": {
        "id": "enzk_8w2Hitz",
        "colab": {
          "base_uri": "https://localhost:8080/",
          "height": 456
        },
        "outputId": "505d919d-52de-4cc3-c950-e956a369e5fc"
      },
      "execution_count": null,
      "outputs": [
        {
          "output_type": "stream",
          "name": "stdout",
          "text": [
            "              precision    recall  f1-score   support\n",
            "\n",
            "           0       0.90      0.94      0.92      5445\n",
            "           1       0.36      0.29      0.32       444\n",
            "           2       0.52      0.43      0.47       688\n",
            "\n",
            "    accuracy                           0.84      6577\n",
            "   macro avg       0.60      0.55      0.57      6577\n",
            "weighted avg       0.83      0.84      0.83      6577\n",
            "\n"
          ]
        },
        {
          "output_type": "execute_result",
          "data": {
            "text/plain": [
              "<matplotlib.axes._subplots.AxesSubplot at 0x7ff80c043090>"
            ]
          },
          "metadata": {},
          "execution_count": 12
        },
        {
          "output_type": "display_data",
          "data": {
            "image/png": "[encoded data removed]",
            "text/plain": [
              "<Figure size 432x288 with 2 Axes>"
            ]
          },
          "metadata": {
            "needs_background": "light"
          }
        }
      ]
    },
    {
      "cell_type": "code",
      "source": [
        "model_NaiveBayes.save(\"model_NaiveBayes\")"
      ],
      "metadata": {
        "id": "BS4HI_e89exq"
      },
      "execution_count": null,
      "outputs": []
    },
    {
      "cell_type": "markdown",
      "source": [
        "# Load data real time"
      ],
      "metadata": {
        "id": "Ib2WqVY2myrn"
      }
    },
    {
      "cell_type": "code",
      "source": [
        "import pyspark\n",
        "!pip install findspark\n",
        "import findspark\n",
        "findspark.init() \n",
        "from pyspark.sql import SparkSession\n",
        "from pyspark.sql import functions as f\n",
        "import pandas as pd\n",
        "from IPython.core.display import display\n",
        "import seaborn as sns\n",
        "spark = SparkSession.builder.getOrCreate()"
      ],
      "metadata": {
        "id": "AxIFpkq-OctZ",
        "colab": {
          "base_uri": "https://localhost:8080/"
        },
        "outputId": "8b00dfaa-8f19-4278-cb9d-ae108f3ff72c"
      },
      "execution_count": null,
      "outputs": [
        {
          "output_type": "stream",
          "name": "stdout",
          "text": [
            "Collecting findspark\n",
            "  Downloading findspark-2.0.0-py2.py3-none-any.whl (4.4 kB)\n",
            "Installing collected packages: findspark\n",
            "Successfully installed findspark-2.0.0\n"
          ]
        }
      ]
    },
    {
      "cell_type": "code",
      "source": [
        "cd /content/drive/MyDrive/BigData_project"
      ],
      "metadata": {
        "colab": {
          "base_uri": "https://localhost:8080/"
        },
        "id": "aYJCnGC1xpZC",
        "outputId": "b8304763-a4a7-4442-d606-69aae4bac474"
      },
      "execution_count": null,
      "outputs": [
        {
          "output_type": "stream",
          "name": "stdout",
          "text": [
            "/content/drive/MyDrive/BigData_project\n"
          ]
        }
      ]
    },
    {
      "cell_type": "code",
      "source": [
        "import pyspark\n",
        "from IPython.display import display, clear_output\n",
        "from pyspark.sql import SparkSession, DataFrame\n",
        "from pyspark.sql import functions as f\n",
        "import pandas as pd\n",
        "from pyspark.ml import PipelineModel\n",
        "from pyspark.sql.functions import udf\n",
        "from pyspark.sql.streaming import DataStreamReader\n",
        "import html\n",
        "# SETTINGS\n",
        "IN_PATH = \"/content/drive/MyDrive/BigData_project/data_real_time\"\n",
        "\n",
        "timestampformat = \"EEE MMM dd HH:mm:ss zzzz yyyy\"\n",
        "spark.sql(\"set spark.sql.legacy.timeParserPolicy=LEGACY\")\n",
        "spark = SparkSession.builder.appName(\"BigdataProject\").getOrCreate()\n",
        "spark.conf.set(\"spark.sql.legacy.timeParserPolicy\", \"LEGACY\")\n",
        "schema = spark.read.json(IN_PATH).limit(10).schema\n",
        "spark_reader = spark.readStream.schema( schema)\n",
        "streaming_data_raw = (spark_reader.json(IN_PATH).\n",
        "                    select(\"id\",f.col(\"datetime\").alias(\"timestamp\"),f.col(\"author.name\").alias(\"user\"),\n",
        "                    \"message\",).coalesce(1))\n",
        "stream_writer = (streaming_data_raw.writeStream.queryName(\"data\").trigger(processingTime=\"5 seconds\").outputMode(\"append\").format(\"memory\"))\n",
        "query = stream_writer.start()"
      ],
      "metadata": {
        "id": "V-qjQoa0xuiC"
      },
      "execution_count": null,
      "outputs": []
    },
    {
      "cell_type": "code",
      "source": [
        "from pyspark.ml import PipelineModel\n",
        "model = PipelineModel.load(\"/content/model_NaiveBayes\")"
      ],
      "metadata": {
        "id": "AGXUULzLx70v"
      },
      "execution_count": null,
      "outputs": []
    },
    {
      "cell_type": "code",
      "source": [
        "from pyspark.ml.feature import (StopWordsRemover, Tokenizer, HashingTF, IDF,)\n",
        "from pyspark.ml.classification import LogisticRegression\n",
        "from pyspark.ml import Pipeline\n",
        "import pandas as pd\n",
        "from pyvi import ViTokenizer\n",
        "import re\n",
        "import numpy as np\n",
        "!pip install pyvi\n",
        "STOPWORDS = '/content/vietnamese-stopwords-dash.txt'\n",
        "with open(STOPWORDS, \"r\", encoding=\"utf8\") as ins:\n",
        "    stopwords = []\n",
        "    for line in ins:\n",
        "        dd = line.strip('\\n')\n",
        "        stopwords.append(dd)\n",
        "    stopwords = set(stopwords)\n",
        "\n",
        "def filter_stop_words(train_sentences, stop_words):\n",
        "    new_sent = [word for word in train_sentences.split() if word not in stop_words]\n",
        "    train_sentences = ' '.join(new_sent)\n",
        "        \n",
        "    return train_sentences\n",
        "\n",
        "def deEmojify(text):\n",
        "    regrex_pattern = re.compile(pattern = \"[\"\n",
        "        u\"\\U0001F600-\\U0001F64F\"  # emoticons\n",
        "        u\"\\U0001F300-\\U0001F5FF\"  # symbols & pictographs\n",
        "        u\"\\U0001F680-\\U0001F6FF\"  # transport & map symbols\n",
        "        u\"\\U0001F1E0-\\U0001F1FF\"  # flags (iOS)\n",
        "                           \"]+\", flags = re.UNICODE)\n",
        "    return regrex_pattern.sub(r'',text)\n",
        "\n",
        "def preprocess(text, tokenized=True, lowercased=True):\n",
        "    text = text.lower() if lowercased else text\n",
        "    text = ViTokenizer.tokenize(text) if tokenized else text\n",
        "    text = filter_stop_words(text, stopwords)\n",
        "    text = deEmojify(text)\n",
        "    return text\n",
        "\n",
        "def pre_process_features(X, tokenized=True, lowercased=True):\n",
        "    X = [preprocess(str(p), tokenized=tokenized, lowercased=lowercased) for p in list(X)]\n",
        "    for idx, ele in enumerate(X):\n",
        "        if not ele:\n",
        "            np.delete(X, idx)\n",
        "    return X"
      ],
      "metadata": {
        "colab": {
          "base_uri": "https://localhost:8080/"
        },
        "id": "59PQpsfO0wHP",
        "outputId": "94886e7e-21d0-40fe-a895-965832e669fc"
      },
      "execution_count": null,
      "outputs": [
        {
          "output_type": "stream",
          "name": "stdout",
          "text": [
            "Requirement already satisfied: pyvi in /usr/local/lib/python3.7/dist-packages (0.1.1)\n",
            "Requirement already satisfied: scikit-learn in /usr/local/lib/python3.7/dist-packages (from pyvi) (1.0.2)\n",
            "Requirement already satisfied: sklearn-crfsuite in /usr/local/lib/python3.7/dist-packages (from pyvi) (0.3.6)\n",
            "Requirement already satisfied: threadpoolctl>=2.0.0 in /usr/local/lib/python3.7/dist-packages (from scikit-learn->pyvi) (3.0.0)\n",
            "Requirement already satisfied: scipy>=1.1.0 in /usr/local/lib/python3.7/dist-packages (from scikit-learn->pyvi) (1.4.1)\n",
            "Requirement already satisfied: numpy>=1.14.6 in /usr/local/lib/python3.7/dist-packages (from scikit-learn->pyvi) (1.19.5)\n",
            "Requirement already satisfied: joblib>=0.11 in /usr/local/lib/python3.7/dist-packages (from scikit-learn->pyvi) (1.1.0)\n",
            "Requirement already satisfied: six in /usr/local/lib/python3.7/dist-packages (from sklearn-crfsuite->pyvi) (1.15.0)\n",
            "Requirement already satisfied: tabulate in /usr/local/lib/python3.7/dist-packages (from sklearn-crfsuite->pyvi) (0.8.9)\n",
            "Requirement already satisfied: python-crfsuite>=0.8.3 in /usr/local/lib/python3.7/dist-packages (from sklearn-crfsuite->pyvi) (0.9.7)\n",
            "Requirement already satisfied: tqdm>=2.0 in /usr/local/lib/python3.7/dist-packages (from sklearn-crfsuite->pyvi) (4.62.3)\n"
          ]
        }
      ]
    },
    {
      "cell_type": "code",
      "source": [
        "if streaming_data_raw.isStreaming:\n",
        "    from time import sleep\n",
        "    for x in range(0, 2909):\n",
        "        try:\n",
        "            #print(query.isActive)\n",
        "            print(\"Showing live view nefreshed eveny 10 seconds\")\n",
        "            print(f\"Seconds passed: {x*10}\")\n",
        "            result = spark.sql(f\"SELECT * from {query.name}\")\n",
        "            x = result.toPandas()\n",
        "            X_train = x['message']\n",
        "            train_X = pre_process_features(X_train, tokenized=True, lowercased = False)\n",
        "            train = pd.DataFrame({'text': train_X})\n",
        "            trainDataset = spark.createDataFrame(train)\n",
        "            raw_sentiment = model.transform(trainDataset)\n",
        "            sentiment = raw_sentiment.select(\"text\",f.col(\"prediction\").alias(\"user_sentiment\"))\n",
        "            count = spark.sql(f\"SELECT * FROM {query.name}\").count()\n",
        "            print(f\"Số lượng comment tính tới thời điểm hiện tại: {count}\")\n",
        "            negative_0 = (\n",
        "                            sentiment.filter(\"user_sentiment == 0.0\")\n",
        "                            .select(f.col(\"user_sentiment\").alias(\"CLEAN (non hate)\"))\n",
        "                            .agg(f.count(\"CLEAN (non hate)\"))\n",
        "                        )\n",
        "            negative_1 = (\n",
        "                            sentiment.filter(\"user_sentiment == 1.0\")\n",
        "                            .select(f.col(\"user_sentiment\").alias(\"OFFENSIVE\"))\n",
        "                            .agg(f.count(\"OFFENSIVE\"))\n",
        "                        )\n",
        "            negative_2 = (\n",
        "                            sentiment.filter(\"user_sentiment == 2.0\")\n",
        "                            .select(f.col(\"user_sentiment\").alias(\"HATE\"))\n",
        "                            .agg(f.count(\"HATE\"))\n",
        "                        )\n",
        "            d = {'sentiment': ['CLEAN (non hate)','OFFENSIVE','HATE'], 'count': [negative_0.collect()[0][0],negative_1.collect()[0][0],negative_2.collect()[0][0]]}\n",
        "            df = pd.DataFrame(data=d)\n",
        "            display(df)\n",
        "            sleep(10)\n",
        "            clear_output (wait= True)\n",
        "        except KeyboardInterrupt:\n",
        "            print(\"break\")\n",
        "            break\n",
        "    print( \"Live view ended\")\n",
        "else:\n",
        "    print(\"Not streaming\")"
      ],
      "metadata": {
        "colab": {
          "base_uri": "https://localhost:8080/",
          "height": 439
        },
        "id": "IbGEzq57xxgM",
        "outputId": "d0daf821-71f5-48a4-d62a-5e6b2165db97"
      },
      "execution_count": null,
      "outputs": [
        {
          "output_type": "stream",
          "name": "stdout",
          "text": [
            "Showing live view nefreshed eveny 10 seconds\n",
            "Seconds passed: 20\n",
            "Số lượng comment tính tới thời điểm hiện tại: 1298\n"
          ]
        },
        {
          "output_type": "display_data",
          "data": {
            "text/html": [
              "\n",
              "  <div id=\"df-29e2535c-337e-417a-b95d-fcc8b8713b1f\">\n",
              "    <div class=\"colab-df-container\">\n",
              "      <div>\n",
              "<style scoped>\n",
              "    .dataframe tbody tr th:only-of-type {\n",
              "        vertical-align: middle;\n",
              "    }\n",
              "\n",
              "    .dataframe tbody tr th {\n",
              "        vertical-align: top;\n",
              "    }\n",
              "\n",
              "    .dataframe thead th {\n",
              "        text-align: right;\n",
              "    }\n",
              "</style>\n",
              "<table border=\"1\" class=\"dataframe\">\n",
              "  <thead>\n",
              "    <tr style=\"text-align: right;\">\n",
              "      <th></th>\n",
              "      <th>sentiment</th>\n",
              "      <th>count</th>\n",
              "    </tr>\n",
              "  </thead>\n",
              "  <tbody>\n",
              "    <tr>\n",
              "      <th>0</th>\n",
              "      <td>CLEAN (non hate)</td>\n",
              "      <td>1292</td>\n",
              "    </tr>\n",
              "    <tr>\n",
              "      <th>1</th>\n",
              "      <td>OFFENSIVE</td>\n",
              "      <td>0</td>\n",
              "    </tr>\n",
              "    <tr>\n",
              "      <th>2</th>\n",
              "      <td>HATE</td>\n",
              "      <td>6</td>\n",
              "    </tr>\n",
              "  </tbody>\n",
              "</table>\n",
              "</div>\n",
              "      <button class=\"colab-df-convert\" onclick=\"convertToInteractive('df-29e2535c-337e-417a-b95d-fcc8b8713b1f')\"\n",
              "              title=\"Convert this dataframe to an interactive table.\"\n",
              "              style=\"display:none;\">\n",
              "        \n",
              "  <svg xmlns=\"http://www.w3.org/2000/svg\" height=\"24px\"viewBox=\"0 0 24 24\"\n",
              "       width=\"24px\">\n",
              "    <path d=\"M0 0h24v24H0V0z\" fill=\"none\"/>\n",
              "    <path d=\"M18.56 5.44l.94 2.06.94-2.06 2.06-.94-2.06-.94-.94-2.06-.94 2.06-2.06.94zm-11 1L8.5 8.5l.94-2.06 2.06-.94-2.06-.94L8.5 2.5l-.94 2.06-2.06.94zm10 10l.94 2.06.94-2.06 2.06-.94-2.06-.94-.94-2.06-.94 2.06-2.06.94z\"/><path d=\"M17.41 7.96l-1.37-1.37c-.4-.4-.92-.59-1.43-.59-.52 0-1.04.2-1.43.59L10.3 9.45l-7.72 7.72c-.78.78-.78 2.05 0 2.83L4 21.41c.39.39.9.59 1.41.59.51 0 1.02-.2 1.41-.59l7.78-7.78 2.81-2.81c.8-.78.8-2.07 0-2.86zM5.41 20L4 18.59l7.72-7.72 1.47 1.35L5.41 20z\"/>\n",
              "  </svg>\n",
              "      </button>\n",
              "      \n",
              "  <style>\n",
              "    .colab-df-container {\n",
              "      display:flex;\n",
              "      flex-wrap:wrap;\n",
              "      gap: 12px;\n",
              "    }\n",
              "\n",
              "    .colab-df-convert {\n",
              "      background-color: #E8F0FE;\n",
              "      border: none;\n",
              "      border-radius: 50%;\n",
              "      cursor: pointer;\n",
              "      display: none;\n",
              "      fill: #1967D2;\n",
              "      height: 32px;\n",
              "      padding: 0 0 0 0;\n",
              "      width: 32px;\n",
              "    }\n",
              "\n",
              "    .colab-df-convert:hover {\n",
              "      background-color: #E2EBFA;\n",
              "      box-shadow: 0px 1px 2px rgba(60, 64, 67, 0.3), 0px 1px 3px 1px rgba(60, 64, 67, 0.15);\n",
              "      fill: #174EA6;\n",
              "    }\n",
              "\n",
              "    [theme=dark] .colab-df-convert {\n",
              "      background-color: #3B4455;\n",
              "      fill: #D2E3FC;\n",
              "    }\n",
              "\n",
              "    [theme=dark] .colab-df-convert:hover {\n",
              "      background-color: #434B5C;\n",
              "      box-shadow: 0px 1px 3px 1px rgba(0, 0, 0, 0.15);\n",
              "      filter: drop-shadow(0px 1px 2px rgba(0, 0, 0, 0.3));\n",
              "      fill: #FFFFFF;\n",
              "    }\n",
              "  </style>\n",
              "\n",
              "      <script>\n",
              "        const buttonEl =\n",
              "          document.querySelector('#df-29e2535c-337e-417a-b95d-fcc8b8713b1f button.colab-df-convert');\n",
              "        buttonEl.style.display =\n",
              "          google.colab.kernel.accessAllowed ? 'block' : 'none';\n",
              "\n",
              "        async function convertToInteractive(key) {\n",
              "          const element = document.querySelector('#df-29e2535c-337e-417a-b95d-fcc8b8713b1f');\n",
              "          const dataTable =\n",
              "            await google.colab.kernel.invokeFunction('convertToInteractive',\n",
              "                                                     [key], {});\n",
              "          if (!dataTable) return;\n",
              "\n",
              "          const docLinkHtml = 'Like what you see? Visit the ' +\n",
              "            '<a target=\"_blank\" href=https://colab.research.google.com/notebooks/data_table.ipynb>data table notebook</a>'\n",
              "            + ' to learn more about interactive tables.';\n",
              "          element.innerHTML = '';\n",
              "          dataTable['output_type'] = 'display_data';\n",
              "          await google.colab.output.renderOutput(dataTable, element);\n",
              "          const docLink = document.createElement('div');\n",
              "          docLink.innerHTML = docLinkHtml;\n",
              "          element.appendChild(docLink);\n",
              "        }\n",
              "      </script>\n",
              "    </div>\n",
              "  </div>\n",
              "  "
            ],
            "text/plain": [
              "          sentiment  count\n",
              "0  CLEAN (non hate)   1292\n",
              "1         OFFENSIVE      0\n",
              "2              HATE      6"
            ]
          },
          "metadata": {}
        },
        {
          "output_type": "stream",
          "name": "stdout",
          "text": [
            "+--------------------+--------------+\n",
            "|                text|user_sentiment|\n",
            "+--------------------+--------------+\n",
            "|: red_heart : : r...|           0.0|\n",
            "|: red_heart : : r...|           0.0|\n",
            "|: red_heart : : r...|           0.0|\n",
            "|: red_heart : : r...|           0.0|\n",
            "|: red_heart : : r...|           0.0|\n",
            "+--------------------+--------------+\n",
            "only showing top 5 rows\n",
            "\n"
          ]
        },
        {
          "output_type": "display_data",
          "data": {
            "text/plain": [
              "None"
            ]
          },
          "metadata": {}
        },
        {
          "output_type": "stream",
          "name": "stdout",
          "text": [
            "break\n",
            "Live view ended\n"
          ]
        }
      ]
    },
    {
      "cell_type": "code",
      "source": [
        ""
      ],
      "metadata": {
        "id": "ZprkLSxXDIsP"
      },
      "execution_count": null,
      "outputs": []
    }
  ]
}